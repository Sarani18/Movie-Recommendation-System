{
 "cells": [
  {
   "cell_type": "code",
   "execution_count": 2,
   "metadata": {},
   "outputs": [
    {
     "name": "stdout",
     "output_type": "stream",
     "text": [
      "[1.         0.08458258 0.05812382 ... 0.02478408 0.02739983 0.        ]\n"
     ]
    }
   ],
   "source": [
    "import pickle\n",
    "new_df = pickle.load(open('new.pkl','rb'))\n",
    "movies = pickle.load(open('movie_dict.pkl','rb'))\n",
    "similarity = pickle.load(open('similarity.pkl','rb'))\n",
    "print(similarity[0])"
   ]
  },
  {
   "cell_type": "code",
   "execution_count": 4,
   "metadata": {},
   "outputs": [],
   "source": [
    "def recommend_10(movie):\n",
    "    movie_list = []\n",
    "    index = new_df[new_df['title'] == movie].index[0]   #index of searched movie in df\n",
    "    distances = sorted(list(enumerate(similarity[index])),reverse=True,key = lambda x: x[1])  #index and cos_sim tuple\n",
    "    for i in distances[1:11]:\n",
    "        movie = new_df.iloc[i[0]].title\n",
    "        movie_list.append(movie)\n",
    "    return movie_list"
   ]
  },
  {
   "cell_type": "code",
   "execution_count": 6,
   "metadata": {},
   "outputs": [
    {
     "name": "stdout",
     "output_type": "stream",
     "text": [
      "in main\n",
      " * Serving Flask app '__main__'\n",
      " * Debug mode: off\n"
     ]
    },
    {
     "name": "stderr",
     "output_type": "stream",
     "text": [
      "WARNING: This is a development server. Do not use it in a production deployment. Use a production WSGI server instead.\n",
      " * Running on http://127.0.0.1:5000\n",
      "Press CTRL+C to quit\n"
     ]
    },
    {
     "name": "stderr",
     "output_type": "stream",
     "text": [
      "127.0.0.1 - - [21/Feb/2024 19:26:58] \"GET / HTTP/1.1\" 200 -\n"
     ]
    },
    {
     "name": "stdout",
     "output_type": "stream",
     "text": [
      "in /\n"
     ]
    },
    {
     "name": "stderr",
     "output_type": "stream",
     "text": [
      "127.0.0.1 - - [21/Feb/2024 19:27:01] \"POST /submit HTTP/1.1\" 200 -\n",
      "127.0.0.1 - - [21/Feb/2024 19:27:01] \"GET /details?movie=Small%20Soldiers HTTP/1.1\" 200 -\n"
     ]
    }
   ],
   "source": [
    "from flask import Flask,render_template,redirect,request,url_for\n",
    "\n",
    "app = Flask(__name__)\n",
    "\n",
    "@app.route('/')\n",
    "def search():\n",
    "    print(\"in /\")\n",
    "    return render_template('search.html')\n",
    "\n",
    "@app.route('/submit', methods=['GET','POST'])\n",
    "def submit():\n",
    "    movie=''\n",
    "    if request.method == 'POST':\n",
    "        movie = request.form['search']\n",
    "        movie_list = recommend_10(movie)\n",
    "    return render_template('results.html',movies=movie_list)\n",
    "\n",
    "@app.route('/details')\n",
    "def details():\n",
    "    movie = request.args.get('movie')\n",
    "    return render_template('movie.html',movie = movie)\n",
    "\n",
    "\n",
    "if __name__ == '__main__':\n",
    "    print(\"in main\")\n",
    "    app.run()\n",
    "\n"
   ]
  },
  {
   "cell_type": "code",
   "execution_count": null,
   "metadata": {},
   "outputs": [],
   "source": [
    "p = recommend_10(\"Aliens\")\n",
    "print(p)"
   ]
  }
 ],
 "metadata": {
  "kernelspec": {
   "display_name": "mov_rec",
   "language": "python",
   "name": "python3"
  },
  "language_info": {
   "codemirror_mode": {
    "name": "ipython",
    "version": 3
   },
   "file_extension": ".py",
   "mimetype": "text/x-python",
   "name": "python",
   "nbconvert_exporter": "python",
   "pygments_lexer": "ipython3",
   "version": "3.9.18"
  }
 },
 "nbformat": 4,
 "nbformat_minor": 2
}
